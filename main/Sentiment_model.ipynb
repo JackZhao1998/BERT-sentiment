{
 "cells": [
  {
   "cell_type": "code",
   "execution_count": 2,
   "id": "3c674a94-5114-4a72-8add-ec1b9b87e7ef",
   "metadata": {},
   "outputs": [],
   "source": [
    "import numpy as np\n",
    "import pandas as pd\n",
    "from transformers import AutoTokenizer, AutoModelForSequenceClassification\n",
    "from transformers import InputExample, InputFeatures"
   ]
  },
  {
   "cell_type": "code",
   "execution_count": 4,
   "id": "8ed0bfcc-b5ef-43ab-9753-8582f9de36c4",
   "metadata": {},
   "outputs": [],
   "source": [
    "tokenizer = AutoTokenizer.from_pretrained(\"nlptown/bert-base-multilingual-uncased-sentiment\")\n",
    "model = AutoModelForSequenceClassification.from_pretrained(\"nlptown/bert-base-multilingual-uncased-sentiment\")\n",
    "def sentiment_classifier(text, model, tokenizer):\n",
    "    inputs = tokenizer.encode_plus(text, return_tensors='pt',add_special_tokens=True)\n",
    "    token_type_ids = inputs['token_type_ids']\n",
    "    input_ids = inputs['input_ids']\n",
    "    output = model(input_ids, token_type_ids=token_type_ids, return_dict = True, output_hidden_states = True)\n",
    "    logits = np.array(output.logits.tolist()[0])\n",
    "    prob = np.exp(logits)/np.sum(np.exp(logits))\n",
    "    sentiment = np.sum([(x+1)*prob[x]for x in range(len(prob))])\n",
    "    return sentiment\n",
    "\n",
    "texts = list(pd.read_csv('/Users/JackRitian/Desktop/tweeter data/2022-08-25_stock_tweets.csv'))\n",
    "sentiments = {}\n",
    "for text in texts:\n",
    "    sentiment_score = sentiment_classifier(text,model,tokenizer)\n",
    "    sentiments[text]=sentiment_score"
   ]
  },
  {
   "cell_type": "code",
   "execution_count": 5,
   "id": "7e10f4ab-e5aa-4abb-8c6e-5c7029d88503",
   "metadata": {},
   "outputs": [
    {
     "name": "stdout",
     "output_type": "stream",
     "text": [
      "                                                    Sentiment\n",
      "@NimmiRaz @Jitendra_stock @nakulvibhor @chartmo...   2.928237\n",
      "Found my favourite stock photo of the week http...   4.739720\n",
      "@es2shine Oh man... don't get me started... a p...   2.072241\n",
      "#OCAX Short volume was exceptionally high: 185....   2.468601\n",
      "Daily Update #26Aug2022 08:56\\nStock : #ICICIPR...   2.480740\n",
      "@HarvestedN Save that energy foe the wealthy th...   1.730149\n",
      "What’s more, some are already here! 🤩\\n\\nMinist...   3.579262\n",
      "The industry average Profit Margin is -15.86%. ...   2.093201\n",
      "@dwest___ @WW_Racing @ztevans Yall have fun wit...   3.705545\n",
      "$AMD $SPY $V $PLUG $HD $WMT $EOD $PENN $BABA  $...   2.096587\n"
     ]
    }
   ],
   "source": [
    "print(pd.DataFrame.from_dict(sentiments, orient = 'index', columns = ['Sentiment']))"
   ]
  },
  {
   "cell_type": "code",
   "execution_count": null,
   "id": "5bc1fb5f-5ab5-4542-b9a1-7db55b52ca6f",
   "metadata": {},
   "outputs": [],
   "source": []
  },
  {
   "cell_type": "code",
   "execution_count": null,
   "id": "ca72d8fa-c7ea-41e3-9dc1-726ccdbaa855",
   "metadata": {},
   "outputs": [],
   "source": []
  },
  {
   "cell_type": "code",
   "execution_count": null,
   "id": "96bf5362-995a-4b73-a8d1-45ca117f6c34",
   "metadata": {},
   "outputs": [],
   "source": []
  }
 ],
 "metadata": {
  "kernelspec": {
   "display_name": "Python 3",
   "language": "python",
   "name": "python3"
  },
  "language_info": {
   "codemirror_mode": {
    "name": "ipython",
    "version": 3
   },
   "file_extension": ".py",
   "mimetype": "text/x-python",
   "name": "python",
   "nbconvert_exporter": "python",
   "pygments_lexer": "ipython3",
   "version": "3.8.8"
  }
 },
 "nbformat": 4,
 "nbformat_minor": 5
}
