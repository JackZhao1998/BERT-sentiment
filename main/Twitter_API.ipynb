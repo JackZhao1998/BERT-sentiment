{
 "cells": [
  {
   "cell_type": "code",
   "execution_count": 6,
   "id": "22248dc1-ccf3-463e-9efb-bfc6eaf4f98d",
   "metadata": {},
   "outputs": [],
   "source": [
    "import tweepy\n",
    "import datetime\n",
    "import csv\n",
    "import pandas as pd\n",
    "import time\n",
    "\n",
    "api_key = 'yHiIFX5XoiOAmSMM6OJwoNFJo'\n",
    "api_secret = 'LXy93lqQP7CkQjUrpYCBkCAi01VnkE5qY8WBNJCqhXMP3jRIg5'\n",
    "bearer_token = 'AAAAAAAAAAAAAAAAAAAAAOdQegEAAAAAls6HfUq29KL9lMe5Yhv4ZHnRiIw%3Djw5VivJs7CJWt7HWh3vRGcbhe8XEQ1uZgRGIhJ9PLIU82wQ8OQ'\n",
    "access_token = '1521169857710116867-XYk3ycCgALVa8PMiMObAllll3ulPCX'\n",
    "access_token_secret = 'hVbCoqD0WsfXbadTtJ6XgNe7NQXBP93TvV2abMwiloROE'\n",
    "\n",
    "client = tweepy.Client(bearer_token,api_key,api_secret,access_token,access_token_secret)\n",
    "\n",
    "auth = tweepy.OAuth1UserHandler(api_key, api_secret, access_token, access_token_secret)\n",
    "api = tweepy.API(auth)"
   ]
  },
  {
   "cell_type": "code",
   "execution_count": 29,
   "id": "4548335f-65a5-45ac-aa09-96e7ec65f567",
   "metadata": {},
   "outputs": [],
   "source": [
    "def get_tweets(key_word,post_num):\n",
    "    today = str(datetime.datetime.today())[0:10]\n",
    "    texts = []\n",
    "    search_words = key_word\n",
    "    search = search_words + '-filter:retweets'\n",
    "    for tweet in tweepy.Cursor(api.search_tweets, q = search,lang='en').items(post_num):\n",
    "        text = tweet.text\n",
    "        texts.append(text)\n",
    "    \n",
    "    f = open(\"/Users/JackRitian/Desktop/tweeter data/\"+today+\"_\"+key_word+\"_tweets.csv\",'w')\n",
    "    writer = csv.writer(f)\n",
    "    writer.writerow(texts)\n",
    "    f.close()\n",
    "    return"
   ]
  },
  {
   "cell_type": "code",
   "execution_count": 30,
   "id": "44e29e6b-fac9-4754-b2fd-b80401b04445",
   "metadata": {},
   "outputs": [],
   "source": [
    "get_tweets('stock',10)"
   ]
  },
  {
   "cell_type": "code",
   "execution_count": 33,
   "id": "e2cf6d35-9efe-449d-a2ca-98c5495ba44d",
   "metadata": {},
   "outputs": [
    {
     "name": "stdout",
     "output_type": "stream",
     "text": [
      "['@NimmiRaz @Jitendra_stock @nakulvibhor @chartmojo @in_tradingview 👍👍 \\nTarget 400 \\nTF :- short term 🙏🙏 #lumaxtech', 'Found my favourite stock photo of the week https://t.co/4nleqEQ4TJ', \"@es2shine Oh man... don't get me started... a pullback to a moving average on light volume  has happened since the… https://t.co/lFtiAp9gTV\", '#OCAX Short volume was exceptionally high: 185.51% of the 20-day moving average\\nhttps://t.co/YtCPrNuPtC\\nTry our new… https://t.co/kMutmhPKyQ', 'Daily Update #26Aug2022 08:56\\nStock : #ICICIPRULI\\nOPEN :586.9\\nHIGH :594.35\\nLOW :585.55\\nCLOSE :589.2\\nPreClose :584.4… https://t.co/xHz7DSDrnm', '@HarvestedN Save that energy foe the wealthy that don’t pay taxes or that received PPP loans or the corporations th… https://t.co/ORDr7A6pok', 'What’s more, some are already here! 🤩\\n\\nMinister for Fishing and Boating, @SonyaKilkenny visited Navan Park Lake in… https://t.co/zuxgH4HAls', 'The industry average Profit Margin is -15.86%. $ABB outperforms 92% of its industry peers. https://t.co/8UGvchEXQx https://t.co/4ASYyYgsSj', '@dwest___ @WW_Racing @ztevans Yall have fun with Long Beach. Theres a limit and thats the ARCA car there for me (in… https://t.co/lndZ0ET3Jq', '$AMD $SPY $V $PLUG $HD $WMT $EOD $PENN $BABA  $AMC $BP \\n\\n!!!Start trading with us!\\nhttps://t.co/q2E4WFe4U1 https://t.co/mKlrmWcX2Q']\n"
     ]
    }
   ],
   "source": [
    "texts = list(pd.read_csv('/Users/JackRitian/Desktop/tweeter data/2022-08-25_stock_tweets.csv'))\n",
    "print(texts)"
   ]
  }
 ],
 "metadata": {
  "kernelspec": {
   "display_name": "Python 3 (ipykernel)",
   "language": "python",
   "name": "python3"
  },
  "language_info": {
   "codemirror_mode": {
    "name": "ipython",
    "version": 3
   },
   "file_extension": ".py",
   "mimetype": "text/x-python",
   "name": "python",
   "nbconvert_exporter": "python",
   "pygments_lexer": "ipython3",
   "version": "3.9.12"
  }
 },
 "nbformat": 4,
 "nbformat_minor": 5
}
